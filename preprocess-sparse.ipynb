{
 "cells": [
  {
   "cell_type": "code",
   "execution_count": null,
   "id": "f910e1c0-bf66-4421-880e-0b88f3ecbad2",
   "metadata": {},
   "outputs": [],
   "source": [
    "import numpy as np\n",
    "import pandas as pd\n",
    "import matplotlib.pyplot as plt\n",
    "from sklearn.utils import shuffle\n",
    "from scipy.sparse import lil_matrix, csr_matrix, save_npz, load_npz\n",
    "\n",
    "# load in the data\n",
    "df = pd.read_csv('Users/keshavsaraogi/Desktop/movie-lens-20m/edited_rating.csv')"
   ]
  },
  {
   "cell_type": "code",
   "execution_count": null,
   "id": "627d5c23-d43e-458c-baab-80ea21caabdf",
   "metadata": {},
   "outputs": [],
   "source": [
    "N = df.userId.max() + 1 # number of users\n",
    "M = df.movie_idx.max() + 1 # number of movies"
   ]
  },
  {
   "cell_type": "code",
   "execution_count": null,
   "id": "a8d8b205-07cd-4787-9e8d-e055d672eec0",
   "metadata": {},
   "outputs": [],
   "source": [
    "# split into train and test\n",
    "df = shuffle(df)\n",
    "cutoff = int(0.8*len(df))\n",
    "df_train = df.iloc[:cutoff]\n",
    "df_test = df.iloc[cutoff:]"
   ]
  },
  {
   "cell_type": "code",
   "execution_count": null,
   "id": "eb768593-710f-4e57-aa92-c4362b0244d4",
   "metadata": {},
   "outputs": [],
   "source": [
    "A = lil_matrix((N, M))\n",
    "print(\"Calling: update_train\")\n",
    "count = 0\n",
    "def update_train(row):\n",
    "  global count\n",
    "  count += 1\n",
    "  if count % 100000 == 0:\n",
    "    print(\"processed: %.3f\" % (float(count)/cutoff))\n",
    "\n",
    "  i = int(row.userId)\n",
    "  j = int(row.movie_idx)\n",
    "  A[i,j] = row.rating\n",
    "df_train.apply(update_train, axis=1)"
   ]
  },
  {
   "cell_type": "code",
   "execution_count": null,
   "id": "86a0f386-a32c-463d-8513-32cc1b5b20d6",
   "metadata": {},
   "outputs": [],
   "source": [
    "# mask, to tell us which entries exist and which do not\n",
    "A = A.tocsr()\n",
    "mask = (A > 0)\n",
    "save_npz(\"Atrain.npz\", A)"
   ]
  },
  {
   "cell_type": "code",
   "execution_count": null,
   "id": "3a6e1f70-37e1-4614-92de-81318d9098ae",
   "metadata": {},
   "outputs": [],
   "source": [
    "# test ratings dictionary\n",
    "A_test = lil_matrix((N, M))\n",
    "print(\"Calling: update_test\")\n",
    "count = 0"
   ]
  },
  {
   "cell_type": "code",
   "execution_count": null,
   "id": "0084eca0-209f-4a6a-9b6e-eff540a1cd4a",
   "metadata": {},
   "outputs": [],
   "source": [
    "def update_test(row):\n",
    "  global count\n",
    "  count += 1\n",
    "  if count % 100000 == 0:\n",
    "    print(\"processed: %.3f\" % (float(count)/len(df_test)))\n",
    "\n",
    "  i = int(row.userId)\n",
    "  j = int(row.movie_idx)\n",
    "  A_test[i,j] = row.rating"
   ]
  },
  {
   "cell_type": "code",
   "execution_count": null,
   "id": "535d7ef0-dd54-4473-93a0-88960fef34f1",
   "metadata": {},
   "outputs": [],
   "source": [
    "df_test.apply(update_test, axis=1)\n",
    "A_test = A_test.tocsr()\n",
    "mask_test = (A_test > 0)"
   ]
  },
  {
   "cell_type": "code",
   "execution_count": null,
   "id": "78e686b3-22cf-4b98-82c2-f2442fcaf8a4",
   "metadata": {},
   "outputs": [],
   "source": [
    "save_npz(\"Atest.npz\", A_test)"
   ]
  },
  {
   "cell_type": "code",
   "execution_count": null,
   "id": "39944843-051b-4d33-a1ec-404313d460b4",
   "metadata": {},
   "outputs": [],
   "source": []
  }
 ],
 "metadata": {
  "kernelspec": {
   "display_name": "Python 3 (ipykernel)",
   "language": "python",
   "name": "python3"
  },
  "language_info": {
   "codemirror_mode": {
    "name": "ipython",
    "version": 3
   },
   "file_extension": ".py",
   "mimetype": "text/x-python",
   "name": "python",
   "nbconvert_exporter": "python",
   "pygments_lexer": "ipython3",
   "version": "3.11.7"
  }
 },
 "nbformat": 4,
 "nbformat_minor": 5
}
