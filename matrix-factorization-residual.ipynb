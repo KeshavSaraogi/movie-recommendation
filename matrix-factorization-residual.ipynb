{
 "cells": [
  {
   "cell_type": "code",
   "execution_count": null,
   "id": "c6907852-f943-434e-a55d-065dc277ff06",
   "metadata": {},
   "outputs": [],
   "source": [
    "import pickle\n",
    "import numpy as np\n",
    "import pandas as pd\n",
    "import matplotlib.pyplot as plt\n",
    "from sklearn.utils import shuffle\n",
    "\n",
    "from keras.models import Model\n",
    "from keras.layers import Input, Embedding, Dot, Add, Flatten, Dense, Concatenate\n",
    "from keras.layers import Dropout, BatchNormalization, Activation\n",
    "from keras.regularizers import l2\n",
    "from keras.optimizers import SGD, Adam\n",
    "\n",
    "# load in the data\n",
    "df = pd.read_csv('Users/keshavsaraogi/Desktop/movie-lens-20m/edited_rating.csv')"
   ]
  },
  {
   "cell_type": "code",
   "execution_count": null,
   "id": "d965b930-2b55-48c4-9558-27036f1b5333",
   "metadata": {},
   "outputs": [],
   "source": [
    "N = df.userId.max() + 1 # number of users\n",
    "M = df.movie_idx.max() + 1 # number of movies"
   ]
  },
  {
   "cell_type": "code",
   "execution_count": null,
   "id": "d66f8e15-0c5f-465b-a6b4-598b85a16003",
   "metadata": {},
   "outputs": [],
   "source": [
    "# split into train and test\n",
    "df = shuffle(df)\n",
    "cutoff = int(0.8*len(df))\n",
    "df_train = df.iloc[:cutoff]\n",
    "df_test = df.iloc[cutoff:]"
   ]
  },
  {
   "cell_type": "code",
   "execution_count": null,
   "id": "34f680ec-6c07-4c0c-b4ca-c82c4c976633",
   "metadata": {},
   "outputs": [],
   "source": [
    "# initialize variables\n",
    "K = 10 # latent dimensionality\n",
    "mu = df_train.rating.mean()\n",
    "epochs = 15\n",
    "reg = 0. # regularization penalty"
   ]
  },
  {
   "cell_type": "code",
   "execution_count": null,
   "id": "ac854a6f-bbc4-4843-89d8-463e48180df4",
   "metadata": {},
   "outputs": [],
   "source": [
    "# keras model\n",
    "u = Input(shape=(1,))\n",
    "m = Input(shape=(1,))\n",
    "u_embedding = Embedding(N, K)(u) # (N, 1, K)\n",
    "m_embedding = Embedding(M, K)(m) # (N, 1, K)"
   ]
  },
  {
   "cell_type": "code",
   "execution_count": null,
   "id": "201a073a-91bc-464b-b178-6506e16bebf4",
   "metadata": {},
   "outputs": [],
   "source": [
    "##### main branch\n",
    "u_bias = Embedding(N, 1)(u) # (N, 1, 1)\n",
    "m_bias = Embedding(M, 1)(m) # (N, 1, 1)\n",
    "x = Dot(axes=2)([u_embedding, m_embedding]) # (N, 1, 1)\n",
    "x = Add()([x, u_bias, m_bias])\n",
    "x = Flatten()(x) # (N, 1)"
   ]
  },
  {
   "cell_type": "code",
   "execution_count": null,
   "id": "1e61e095-8559-4d08-8a2b-4adc02d64797",
   "metadata": {},
   "outputs": [],
   "source": [
    "##### side branch\n",
    "u_embedding = Flatten()(u_embedding) # (N, K)\n",
    "m_embedding = Flatten()(m_embedding) # (N, K)\n",
    "y = Concatenate()([u_embedding, m_embedding]) # (N, 2K)\n",
    "y = Dense(400)(y)\n",
    "y = Activation('elu')(y)\n",
    "# y = Dropout(0.5)(y)\n",
    "y = Dense(1)(y)"
   ]
  },
  {
   "cell_type": "code",
   "execution_count": null,
   "id": "5eb48438-fdf4-47a3-b37a-ffe5faa64627",
   "metadata": {},
   "outputs": [],
   "source": [
    "##### merge\n",
    "x = Add()([x, y])\n",
    "\n",
    "model = Model(inputs=[u, m], outputs=x)\n",
    "model.compile(\n",
    "  loss='mse',\n",
    "  # optimizer='adam',\n",
    "  # optimizer=Adam(lr=0.01),\n",
    "  optimizer=SGD(lr=0.08, momentum=0.9),\n",
    "  metrics=['mse'],\n",
    ")"
   ]
  },
  {
   "cell_type": "code",
   "execution_count": null,
   "id": "32e3250e-212b-43b9-9125-6fec88310c49",
   "metadata": {},
   "outputs": [],
   "source": [
    "r = model.fit(\n",
    "  x=[df_train.userId.values, df_train.movie_idx.values],\n",
    "  y=df_train.rating.values - mu,\n",
    "  epochs=epochs,\n",
    "  batch_size=128,\n",
    "  validation_data=(\n",
    "    [df_test.userId.values, df_test.movie_idx.values],\n",
    "    df_test.rating.values - mu\n",
    "  )\n",
    ")"
   ]
  },
  {
   "cell_type": "code",
   "execution_count": null,
   "id": "f95bb655-dc41-40ba-92ca-606329401ebf",
   "metadata": {},
   "outputs": [],
   "source": [
    "# plot losses\n",
    "plt.plot(r.history['loss'], label=\"train loss\")\n",
    "plt.plot(r.history['val_loss'], label=\"test loss\")\n",
    "plt.legend()\n",
    "plt.show()"
   ]
  },
  {
   "cell_type": "code",
   "execution_count": null,
   "id": "ab24bb14-c87c-4327-a796-665bd9518986",
   "metadata": {},
   "outputs": [],
   "source": [
    "# plot mse\n",
    "plt.plot(r.history['mean_squared_error'], label=\"train mse\")\n",
    "plt.plot(r.history['val_mean_squared_error'], label=\"test mse\")\n",
    "plt.legend()\n",
    "plt.show()"
   ]
  },
  {
   "cell_type": "code",
   "execution_count": null,
   "id": "8c2f9834-fc27-435c-88bb-d0bf9c01e7af",
   "metadata": {},
   "outputs": [],
   "source": []
  }
 ],
 "metadata": {
  "kernelspec": {
   "display_name": "Python 3 (ipykernel)",
   "language": "python",
   "name": "python3"
  },
  "language_info": {
   "codemirror_mode": {
    "name": "ipython",
    "version": 3
   },
   "file_extension": ".py",
   "mimetype": "text/x-python",
   "name": "python",
   "nbconvert_exporter": "python",
   "pygments_lexer": "ipython3",
   "version": "3.11.7"
  }
 },
 "nbformat": 4,
 "nbformat_minor": 5
}
