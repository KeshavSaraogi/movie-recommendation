{
 "cells": [
  {
   "cell_type": "code",
   "execution_count": null,
   "id": "b762bf46-3e2c-4a44-abb9-e43027645d61",
   "metadata": {},
   "outputs": [],
   "source": [
    "import numpy as np\n",
    "import pandas as pd\n",
    "import matplotlib.pyplot as plt\n",
    "from sklearn.utils import shuffle\n",
    "from scipy.sparse import save_npz, load_npz\n",
    "\n",
    "import keras.backend as K\n",
    "from keras.models import Model\n",
    "from keras.layers import Input, Dropout, Dense\n",
    "from keras.regularizers import l2\n",
    "from keras.optimizers import SGD\n",
    "\n",
    "# config\n",
    "batch_size = 128\n",
    "epochs = 20\n",
    "reg = 0.0001\n",
    "# reg = 0"
   ]
  },
  {
   "cell_type": "code",
   "execution_count": null,
   "id": "42cee50a-1741-4de8-8aa5-a23df105dfc1",
   "metadata": {},
   "outputs": [],
   "source": [
    "A = load_npz(\"Atrain.npz\")\n",
    "A_test = load_npz(\"Atest.npz\")\n",
    "mask = (A > 0) * 1.0\n",
    "mask_test = (A_test > 0) * 1.0"
   ]
  },
  {
   "cell_type": "code",
   "execution_count": null,
   "id": "ba166cf1-36a4-4e57-9323-ac9da0a15151",
   "metadata": {},
   "outputs": [],
   "source": [
    "# make copies since we will shuffle\n",
    "A_copy = A.copy()\n",
    "mask_copy = mask.copy()\n",
    "A_test_copy = A_test.copy()\n",
    "mask_test_copy = mask_test.copy()"
   ]
  },
  {
   "cell_type": "code",
   "execution_count": null,
   "id": "f6ac49e7-dc87-4855-a7a1-3ddb1f905647",
   "metadata": {},
   "outputs": [],
   "source": [
    "N, M = A.shape\n",
    "print(\"N:\", N, \"M:\", M)\n",
    "print(\"N // batch_size:\", N // batch_size)"
   ]
  },
  {
   "cell_type": "code",
   "execution_count": null,
   "id": "4279b1b3-2576-4abc-89fb-e49978e59c01",
   "metadata": {},
   "outputs": [],
   "source": [
    "# center the data\n",
    "mu = A.sum() / mask.sum()\n",
    "print(\"mu:\", mu)"
   ]
  },
  {
   "cell_type": "code",
   "execution_count": null,
   "id": "13a63356-6a40-4b99-98cb-85926cf86ea8",
   "metadata": {},
   "outputs": [],
   "source": [
    "# build the model - just a 1 hidden layer autoencoder\n",
    "i = Input(shape=(M,))\n",
    "# bigger hidden layer size seems to help!\n",
    "x = Dropout(0.7)(i)\n",
    "x = Dense(700, activation='tanh', kernel_regularizer=l2(reg))(x)\n",
    "# x = Dropout(0.5)(x)\n",
    "x = Dense(M, kernel_regularizer=l2(reg))(x)"
   ]
  },
  {
   "cell_type": "code",
   "execution_count": null,
   "id": "e4defbf5-8706-4730-8b01-d3b2f3849884",
   "metadata": {},
   "outputs": [],
   "source": [
    "def custom_loss(y_true, y_pred):\n",
    "  mask = K.cast(K.not_equal(y_true, 0), dtype='float32')\n",
    "  diff = y_pred - y_true\n",
    "  sqdiff = diff * diff * mask\n",
    "  sse = K.sum(K.sum(sqdiff))\n",
    "  n = K.sum(K.sum(mask))\n",
    "  return sse / n"
   ]
  },
  {
   "cell_type": "code",
   "execution_count": null,
   "id": "cdf68e85-0e37-4131-bf25-98af87103cdd",
   "metadata": {},
   "outputs": [],
   "source": [
    "def generator(A, M):\n",
    "  while True:\n",
    "    A, M = shuffle(A, M)\n",
    "    for i in range(A.shape[0] // batch_size + 1):\n",
    "      upper = min((i+1)*batch_size, A.shape[0])\n",
    "      a = A[i*batch_size:upper].toarray()\n",
    "      m = M[i*batch_size:upper].toarray()\n",
    "      a = a - mu * m # must keep zeros at zero!\n",
    "      # m2 = (np.random.random(a.shape) > 0.5)\n",
    "      # noisy = a * m2\n",
    "      noisy = a # no noise\n",
    "      yield noisy, a"
   ]
  },
  {
   "cell_type": "code",
   "execution_count": null,
   "id": "3a56cf0c-da33-4897-afc2-a2c6d7fe0308",
   "metadata": {},
   "outputs": [],
   "source": [
    "def test_generator(A, M, A_test, M_test):\n",
    "  # assumes A and A_test are in corresponding order\n",
    "  # both of size N x M\n",
    "  while True:\n",
    "    for i in range(A.shape[0] // batch_size + 1):\n",
    "      upper = min((i+1)*batch_size, A.shape[0])\n",
    "      a = A[i*batch_size:upper].toarray()\n",
    "      m = M[i*batch_size:upper].toarray()\n",
    "      at = A_test[i*batch_size:upper].toarray()\n",
    "      mt = M_test[i*batch_size:upper].toarray()\n",
    "      a = a - mu * m\n",
    "      at = at - mu * mt\n",
    "      yield a, at\n"
   ]
  },
  {
   "cell_type": "code",
   "execution_count": null,
   "id": "a27545cc-3eb0-4775-aebd-aec56cde5b43",
   "metadata": {},
   "outputs": [],
   "source": [
    "model = Model(i, x)\n",
    "model.compile(\n",
    "  loss=custom_loss,\n",
    "  optimizer=SGD(lr=0.08, momentum=0.9),\n",
    "  # optimizer='adam',\n",
    "  metrics=[custom_loss],\n",
    ")\n"
   ]
  },
  {
   "cell_type": "code",
   "execution_count": null,
   "id": "7ebb3010-09ba-4383-8153-9dd75850e718",
   "metadata": {},
   "outputs": [],
   "source": [
    "r = model.fit(\n",
    "  generator(A, mask),\n",
    "  validation_data=test_generator(A_copy, mask_copy, A_test_copy, mask_test_copy),\n",
    "  epochs=epochs,\n",
    "  steps_per_epoch=A.shape[0] // batch_size + 1,\n",
    "  validation_steps=A_test.shape[0] // batch_size + 1,\n",
    ")\n",
    "print(r.history.keys())"
   ]
  },
  {
   "cell_type": "code",
   "execution_count": null,
   "id": "c4618f55-3f78-4111-8b12-66e9de7103fe",
   "metadata": {},
   "outputs": [],
   "source": [
    "# plot losses\n",
    "plt.plot(r.history['loss'], label=\"train loss\")\n",
    "plt.plot(r.history['val_loss'], label=\"test loss\")\n",
    "plt.legend()\n",
    "plt.show()"
   ]
  },
  {
   "cell_type": "code",
   "execution_count": null,
   "id": "8f409b21-9663-497f-98c5-12e42de7873f",
   "metadata": {},
   "outputs": [],
   "source": [
    "# plot mse\n",
    "plt.plot(r.history['custom_loss'], label=\"train mse\")\n",
    "plt.plot(r.history['val_custom_loss'], label=\"test mse\")\n",
    "plt.legend()\n",
    "plt.show()"
   ]
  }
 ],
 "metadata": {
  "kernelspec": {
   "display_name": "Python 3 (ipykernel)",
   "language": "python",
   "name": "python3"
  },
  "language_info": {
   "codemirror_mode": {
    "name": "ipython",
    "version": 3
   },
   "file_extension": ".py",
   "mimetype": "text/x-python",
   "name": "python",
   "nbconvert_exporter": "python",
   "pygments_lexer": "ipython3",
   "version": "3.11.7"
  }
 },
 "nbformat": 4,
 "nbformat_minor": 5
}
