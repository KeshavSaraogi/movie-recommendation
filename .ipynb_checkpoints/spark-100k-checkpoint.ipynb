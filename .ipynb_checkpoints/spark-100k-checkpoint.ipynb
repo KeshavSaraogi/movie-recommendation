{
 "cells": [
  {
   "cell_type": "code",
   "execution_count": null,
   "id": "28ab3720-dbc4-4dd6-b664-5a1322c3a8dc",
   "metadata": {},
   "outputs": [],
   "source": [
    "from pyspark.mllib.recommendation import ALS, MatrixFactorizationModel, Rating\n",
    "import os\n",
    "\n",
    "# load in the data\n",
    "data = sc.textFile(\"../large_files/movielens-20m-dataset/small_rating.csv\")"
   ]
  },
  {
   "cell_type": "code",
   "execution_count": null,
   "id": "c239db9c-56fa-46a4-9dbd-4a58a003e9b3",
   "metadata": {},
   "outputs": [],
   "source": [
    "# filter out header\n",
    "header = data.first() #extract header\n",
    "data = data.filter(lambda row: row != header)"
   ]
  },
  {
   "cell_type": "code",
   "execution_count": null,
   "id": "5192410e-632c-4149-89a3-4d96d107383f",
   "metadata": {},
   "outputs": [],
   "source": [
    "# convert into a sequence of Rating objects\n",
    "ratings = data.map(\n",
    "  lambda l: l.split(',')\n",
    ").map(\n",
    "  lambda l: Rating(int(l[0]), int(l[1]), float(l[2]))\n",
    ")"
   ]
  },
  {
   "cell_type": "code",
   "execution_count": null,
   "id": "21d14e33-0356-4d2c-9e7b-04a0f7864ed0",
   "metadata": {},
   "outputs": [],
   "source": [
    "# split into train and test\n",
    "train, test = ratings.randomSplit([0.8, 0.2])"
   ]
  },
  {
   "cell_type": "code",
   "execution_count": null,
   "id": "12bb5fa8-b297-4677-b658-8b5298bcfc36",
   "metadata": {},
   "outputs": [],
   "source": [
    "# train the model\n",
    "K = 10\n",
    "epochs = 10\n",
    "model = ALS.train(train, K, epochs)"
   ]
  },
  {
   "cell_type": "code",
   "execution_count": null,
   "id": "9054e5ce-58fe-4890-ab0b-1c0e09558277",
   "metadata": {},
   "outputs": [],
   "source": [
    "# train\n",
    "x = train.map(lambda p: (p[0], p[1]))\n",
    "p = model.predictAll(x).map(lambda r: ((r[0], r[1]), r[2]))\n",
    "ratesAndPreds = train.map(lambda r: ((r[0], r[1]), r[2])).join(p)\n",
    "# joins on first item: (user_id, movie_id)\n",
    "# each row of result is: ((user_id, movie_id), (rating, prediction))\n",
    "mse = ratesAndPreds.map(lambda r: (r[1][0] - r[1][1])**2).mean()\n",
    "print(\"train mse: %s\" % mse)"
   ]
  },
  {
   "cell_type": "code",
   "execution_count": null,
   "id": "0882bf9d-f108-459d-8ffd-2212e7eff359",
   "metadata": {},
   "outputs": [],
   "source": [
    "# test\n",
    "x = test.map(lambda p: (p[0], p[1]))\n",
    "p = model.predictAll(x).map(lambda r: ((r[0], r[1]), r[2]))\n",
    "ratesAndPreds = test.map(lambda r: ((r[0], r[1]), r[2])).join(p)\n",
    "mse = ratesAndPreds.map(lambda r: (r[1][0] - r[1][1])**2).mean()\n",
    "print(\"test mse: %s\" % mse)"
   ]
  }
 ],
 "metadata": {
  "kernelspec": {
   "display_name": "Python 3 (ipykernel)",
   "language": "python",
   "name": "python3"
  },
  "language_info": {
   "codemirror_mode": {
    "name": "ipython",
    "version": 3
   },
   "file_extension": ".py",
   "mimetype": "text/x-python",
   "name": "python",
   "nbconvert_exporter": "python",
   "pygments_lexer": "ipython3",
   "version": "3.11.7"
  }
 },
 "nbformat": 4,
 "nbformat_minor": 5
}
