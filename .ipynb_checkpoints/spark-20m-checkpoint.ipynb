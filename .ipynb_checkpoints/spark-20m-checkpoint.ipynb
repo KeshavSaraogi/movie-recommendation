{
 "cells": [
  {
   "cell_type": "code",
   "execution_count": null,
   "id": "081a7c5c-b238-49b9-b7e0-46421f8c1c8e",
   "metadata": {},
   "outputs": [],
   "source": [
    "from pyspark.mllib.recommendation import ALS, MatrixFactorizationModel, Rating\n",
    "from pyspark import SparkContext\n",
    "\n",
    "sc = SparkContext(\"local\", \"Your App Name Here\")\n",
    "data = sc.textFile(\"../large_files/movielens-20m-dataset/rating.csv.gz\")"
   ]
  },
  {
   "cell_type": "code",
   "execution_count": null,
   "id": "09e58f59-1dcf-4c08-8b91-5a770f9d1c63",
   "metadata": {},
   "outputs": [],
   "source": [
    "# filter out header\n",
    "header = data.first() #extract header\n",
    "data = data.filter(lambda row: row != header)"
   ]
  },
  {
   "cell_type": "code",
   "execution_count": null,
   "id": "1df6d05a-dd66-417d-88ab-5d3dde8e5b0c",
   "metadata": {},
   "outputs": [],
   "source": [
    "# convert into a sequence of Rating objects\n",
    "ratings = data.map(\n",
    "  lambda l: l.split(',')\n",
    ").map(\n",
    "  lambda l: Rating(int(l[0]), int(l[1]), float(l[2]))\n",
    ")"
   ]
  },
  {
   "cell_type": "code",
   "execution_count": null,
   "id": "7654d84d-e296-462b-9d98-d4a08046c079",
   "metadata": {},
   "outputs": [],
   "source": [
    "# split into train and test\n",
    "train, test = ratings.randomSplit([0.8, 0.2])"
   ]
  },
  {
   "cell_type": "code",
   "execution_count": null,
   "id": "c28fa288-b2fc-4af2-bda4-8b486726216e",
   "metadata": {},
   "outputs": [],
   "source": [
    "# train the model\n",
    "K = 10\n",
    "epochs = 10\n",
    "model = ALS.train(train, K, epochs)"
   ]
  },
  {
   "cell_type": "code",
   "execution_count": null,
   "id": "769b6855-5fd8-4c95-8e50-0973c2c0fc78",
   "metadata": {},
   "outputs": [],
   "source": [
    "# train\n",
    "x = train.map(lambda p: (p[0], p[1]))\n",
    "p = model.predictAll(x).map(lambda r: ((r[0], r[1]), r[2]))\n",
    "ratesAndPreds = train.map(lambda r: ((r[0], r[1]), r[2])).join(p)\n",
    "# joins on first item: (user_id, movie_id)\n",
    "# each row of result is: ((user_id, movie_id), (rating, prediction))\n",
    "mse = ratesAndPreds.map(lambda r: (r[1][0] - r[1][1])**2).mean()\n",
    "print(\"***** train mse: %s *****\" % mse)"
   ]
  },
  {
   "cell_type": "code",
   "execution_count": null,
   "id": "d91569ac-f29b-4a5f-9c30-b7bfebf85cf4",
   "metadata": {},
   "outputs": [],
   "source": [
    "# test\n",
    "x = test.map(lambda p: (p[0], p[1]))\n",
    "p = model.predictAll(x).map(lambda r: ((r[0], r[1]), r[2]))\n",
    "ratesAndPreds = test.map(lambda r: ((r[0], r[1]), r[2])).join(p)\n",
    "mse = ratesAndPreds.map(lambda r: (r[1][0] - r[1][1])**2).mean()\n",
    "print(\"***** test mse: %s *****\" % mse)"
   ]
  }
 ],
 "metadata": {
  "kernelspec": {
   "display_name": "Python 3 (ipykernel)",
   "language": "python",
   "name": "python3"
  },
  "language_info": {
   "codemirror_mode": {
    "name": "ipython",
    "version": 3
   },
   "file_extension": ".py",
   "mimetype": "text/x-python",
   "name": "python",
   "nbconvert_exporter": "python",
   "pygments_lexer": "ipython3",
   "version": "3.11.7"
  }
 },
 "nbformat": 4,
 "nbformat_minor": 5
}
