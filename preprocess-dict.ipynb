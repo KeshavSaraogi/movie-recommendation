{
 "cells": [
  {
   "cell_type": "code",
   "execution_count": 1,
   "id": "a2e759a4-ca0b-4637-841c-9000df639ec9",
   "metadata": {},
   "outputs": [
    {
     "data": {
      "text/html": [
       "<div>\n",
       "<style scoped>\n",
       "    .dataframe tbody tr th:only-of-type {\n",
       "        vertical-align: middle;\n",
       "    }\n",
       "\n",
       "    .dataframe tbody tr th {\n",
       "        vertical-align: top;\n",
       "    }\n",
       "\n",
       "    .dataframe thead th {\n",
       "        text-align: right;\n",
       "    }\n",
       "</style>\n",
       "<table border=\"1\" class=\"dataframe\">\n",
       "  <thead>\n",
       "    <tr style=\"text-align: right;\">\n",
       "      <th></th>\n",
       "      <th>Unnamed: 0</th>\n",
       "      <th>userId</th>\n",
       "      <th>movieId</th>\n",
       "      <th>rating</th>\n",
       "      <th>movie_idx</th>\n",
       "    </tr>\n",
       "  </thead>\n",
       "  <tbody>\n",
       "    <tr>\n",
       "      <th>0</th>\n",
       "      <td>960</td>\n",
       "      <td>7307</td>\n",
       "      <td>1</td>\n",
       "      <td>4.5</td>\n",
       "      <td>10</td>\n",
       "    </tr>\n",
       "    <tr>\n",
       "      <th>1</th>\n",
       "      <td>961</td>\n",
       "      <td>7307</td>\n",
       "      <td>10</td>\n",
       "      <td>2.5</td>\n",
       "      <td>68</td>\n",
       "    </tr>\n",
       "    <tr>\n",
       "      <th>2</th>\n",
       "      <td>962</td>\n",
       "      <td>7307</td>\n",
       "      <td>19</td>\n",
       "      <td>3.5</td>\n",
       "      <td>143</td>\n",
       "    </tr>\n",
       "    <tr>\n",
       "      <th>3</th>\n",
       "      <td>963</td>\n",
       "      <td>7307</td>\n",
       "      <td>32</td>\n",
       "      <td>5.0</td>\n",
       "      <td>19</td>\n",
       "    </tr>\n",
       "    <tr>\n",
       "      <th>4</th>\n",
       "      <td>964</td>\n",
       "      <td>7307</td>\n",
       "      <td>39</td>\n",
       "      <td>4.5</td>\n",
       "      <td>85</td>\n",
       "    </tr>\n",
       "  </tbody>\n",
       "</table>\n",
       "</div>"
      ],
      "text/plain": [
       "   Unnamed: 0  userId  movieId  rating  movie_idx\n",
       "0         960    7307        1     4.5         10\n",
       "1         961    7307       10     2.5         68\n",
       "2         962    7307       19     3.5        143\n",
       "3         963    7307       32     5.0         19\n",
       "4         964    7307       39     4.5         85"
      ]
     },
     "execution_count": 1,
     "metadata": {},
     "output_type": "execute_result"
    }
   ],
   "source": [
    "import pickle\n",
    "import numpy as np\n",
    "import pandas as pd\n",
    "import matplotlib.pyplot as plt\n",
    "from sklearn.utils import shuffle\n",
    "\n",
    "df = pd.read_csv('/Users/keshavsaraogi/Desktop/movie-lens-20m/small_rating.csv')\n",
    "df.head()"
   ]
  },
  {
   "cell_type": "code",
   "execution_count": 2,
   "id": "ed983bd8-efc1-46be-ac4a-bdd4ffcb0f4a",
   "metadata": {},
   "outputs": [],
   "source": [
    "N = df.userId.max() + 1\n",
    "M = df.movie_idx.max() + 1\n",
    "\n",
    "df = shuffle(df)\n",
    "cutoff = int(0.8*len(df))\n",
    "df_train = df.iloc[:cutoff]\n",
    "df_test = df.iloc[cutoff:]"
   ]
  },
  {
   "cell_type": "code",
   "execution_count": 3,
   "id": "642f1c48-567e-4ccc-833e-1fbe6bf4ec6c",
   "metadata": {},
   "outputs": [
    {
     "name": "stdout",
     "output_type": "stream",
     "text": [
      "Calling: update_user2movie_and_movie2user\n"
     ]
    }
   ],
   "source": [
    "user2movie = {}\n",
    "movie2user = {}\n",
    "usermovie2rating = {}\n",
    "\n",
    "print(\"Calling: update_user2movie_and_movie2user\")\n",
    "count = 0"
   ]
  },
  {
   "cell_type": "code",
   "execution_count": 4,
   "id": "f0f931e0-4cb0-4bd7-a1e1-e89847600f6f",
   "metadata": {},
   "outputs": [
    {
     "name": "stdout",
     "output_type": "stream",
     "text": [
      "processed: 0.023\n",
      "processed: 0.046\n",
      "processed: 0.070\n",
      "processed: 0.093\n",
      "processed: 0.116\n",
      "processed: 0.139\n",
      "processed: 0.162\n",
      "processed: 0.185\n",
      "processed: 0.209\n",
      "processed: 0.232\n",
      "processed: 0.255\n",
      "processed: 0.278\n",
      "processed: 0.301\n",
      "processed: 0.325\n",
      "processed: 0.348\n",
      "processed: 0.371\n",
      "processed: 0.394\n",
      "processed: 0.417\n",
      "processed: 0.440\n",
      "processed: 0.464\n",
      "processed: 0.487\n",
      "processed: 0.510\n",
      "processed: 0.533\n",
      "processed: 0.556\n",
      "processed: 0.580\n",
      "processed: 0.603\n",
      "processed: 0.626\n",
      "processed: 0.649\n",
      "processed: 0.672\n",
      "processed: 0.695\n",
      "processed: 0.719\n",
      "processed: 0.742\n",
      "processed: 0.765\n",
      "processed: 0.788\n",
      "processed: 0.811\n",
      "processed: 0.835\n",
      "processed: 0.858\n",
      "processed: 0.881\n",
      "processed: 0.904\n",
      "processed: 0.927\n",
      "processed: 0.950\n",
      "processed: 0.974\n",
      "processed: 0.997\n"
     ]
    },
    {
     "data": {
      "text/plain": [
       "3024459    None\n",
       "4853422    None\n",
       "4260225    None\n",
       "679943     None\n",
       "1748712    None\n",
       "           ... \n",
       "803971     None\n",
       "772995     None\n",
       "453624     None\n",
       "506139     None\n",
       "1329693    None\n",
       "Length: 4313620, dtype: object"
      ]
     },
     "execution_count": 4,
     "metadata": {},
     "output_type": "execute_result"
    }
   ],
   "source": [
    "def update_user2movie_and_movie2user(row):\n",
    "  global count\n",
    "  count += 1\n",
    "  if count % 100000 == 0:\n",
    "    print(\"processed: %.3f\" % (float(count)/cutoff))\n",
    "\n",
    "  i = int(row.userId)\n",
    "  j = int(row.movie_idx)\n",
    "  if i not in user2movie:\n",
    "    user2movie[i] = [j]\n",
    "  else:\n",
    "    user2movie[i].append(j)\n",
    "\n",
    "  if j not in movie2user:\n",
    "    movie2user[j] = [i]\n",
    "  else:\n",
    "    movie2user[j].append(i)\n",
    "\n",
    "  usermovie2rating[(i,j)] = row.rating\n",
    "df_train.apply(update_user2movie_and_movie2user, axis=1)"
   ]
  },
  {
   "cell_type": "code",
   "execution_count": 5,
   "id": "3f17a38a-bda1-4e42-864d-7a4c8ec494a8",
   "metadata": {},
   "outputs": [
    {
     "name": "stdout",
     "output_type": "stream",
     "text": [
      "Calling: update_usermovie2rating_test\n",
      "processed: 0.093\n",
      "processed: 0.185\n",
      "processed: 0.278\n",
      "processed: 0.371\n",
      "processed: 0.464\n",
      "processed: 0.556\n",
      "processed: 0.649\n",
      "processed: 0.742\n",
      "processed: 0.835\n",
      "processed: 0.927\n"
     ]
    },
    {
     "data": {
      "text/plain": [
       "4358692    None\n",
       "4168228    None\n",
       "4829921    None\n",
       "3372671    None\n",
       "860950     None\n",
       "           ... \n",
       "236334     None\n",
       "4726182    None\n",
       "1906930    None\n",
       "4954193    None\n",
       "1277955    None\n",
       "Length: 1078405, dtype: object"
      ]
     },
     "execution_count": 5,
     "metadata": {},
     "output_type": "execute_result"
    }
   ],
   "source": [
    "usermovie2rating_test = {}\n",
    "print(\"Calling: update_usermovie2rating_test\")\n",
    "count = 0\n",
    "def update_usermovie2rating_test(row):\n",
    "  global count\n",
    "  count += 1\n",
    "  if count % 100000 == 0:\n",
    "    print(\"processed: %.3f\" % (float(count)/len(df_test)))\n",
    "\n",
    "  i = int(row.userId)\n",
    "  j = int(row.movie_idx)\n",
    "  usermovie2rating_test[(i,j)] = row.rating\n",
    "df_test.apply(update_usermovie2rating_test, axis=1)"
   ]
  },
  {
   "cell_type": "code",
   "execution_count": 6,
   "id": "7cbb6951-76b6-480a-88a4-167db7c0a083",
   "metadata": {},
   "outputs": [],
   "source": [
    "with open('user2movie.json', 'wb') as f:\n",
    "  pickle.dump(user2movie, f)\n",
    "\n",
    "with open('movie2user.json', 'wb') as f:\n",
    "  pickle.dump(movie2user, f)\n",
    "\n",
    "with open('usermovie2rating.json', 'wb') as f:\n",
    "  pickle.dump(usermovie2rating, f)\n",
    "\n",
    "with open('usermovie2rating_test.json', 'wb') as f:\n",
    "  pickle.dump(usermovie2rating_test, f)"
   ]
  }
 ],
 "metadata": {
  "kernelspec": {
   "display_name": "Python 3 (ipykernel)",
   "language": "python",
   "name": "python3"
  },
  "language_info": {
   "codemirror_mode": {
    "name": "ipython",
    "version": 3
   },
   "file_extension": ".py",
   "mimetype": "text/x-python",
   "name": "python",
   "nbconvert_exporter": "python",
   "pygments_lexer": "ipython3",
   "version": "3.11.7"
  }
 },
 "nbformat": 4,
 "nbformat_minor": 5
}
