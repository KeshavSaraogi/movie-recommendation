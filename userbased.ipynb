{
 "cells": [
  {
   "cell_type": "code",
   "execution_count": 12,
   "id": "ff66a7fd-0631-4522-ba33-7ecd4b66a021",
   "metadata": {},
   "outputs": [],
   "source": [
    "import pickle\n",
    "import numpy as np\n",
    "import pandas as pd\n",
    "import matplotlib.pyplot as plt\n",
    "from sklearn.utils import shuffle\n",
    "from datetime import datetime\n",
    "from sortedcontainers import SortedList\n",
    "\n",
    "# load in the data\n",
    "import os\n",
    "if not os.path.exists('user2movie.json') or \\\n",
    "   not os.path.exists('movie2user.json') or \\\n",
    "   not os.path.exists('usermovie2rating.json') or \\\n",
    "   not os.path.exists('usermovie2rating_test.json'):\n",
    "   import preprocess2dict\n",
    "\n",
    "\n",
    "with open('user2movie.json', 'rb') as f:\n",
    "  user2movie = pickle.load(f)\n",
    "\n",
    "with open('movie2user.json', 'rb') as f:\n",
    "  movie2user = pickle.load(f)\n",
    "\n",
    "with open('usermovie2rating.json', 'rb') as f:\n",
    "  usermovie2rating = pickle.load(f)\n",
    "\n",
    "with open('usermovie2rating_test.json', 'rb') as f:\n",
    "  usermovie2rating_test = pickle.load(f)"
   ]
  },
  {
   "cell_type": "code",
   "execution_count": 13,
   "id": "3d195e3f-3385-4119-96d0-cb7af52e3b90",
   "metadata": {},
   "outputs": [
    {
     "name": "stdout",
     "output_type": "stream",
     "text": [
      "N: 10000 M: 2000\n"
     ]
    }
   ],
   "source": [
    "import numpy as np\n",
    "\n",
    "N = np.max(list(user2movie.keys())) + 1\n",
    "m1 = np.max(list(movie2user.keys()))\n",
    "m2 = np.max([m for (u, m), r in usermovie2rating_test.items()])\n",
    "M = max(m1, m2) + 1\n",
    "print(\"N:\", N, \"M:\", M)\n",
    "\n",
    "if N > 10000:\n",
    "    print(\"N =\", N, \"are you sure you want to continue?\")\n",
    "    print(\"Comment out these lines if so...\")\n",
    "    exit()\n",
    "\n",
    "K = 25\n",
    "limit = 5\n",
    "neighbors = []\n",
    "averages = []\n",
    "deviations = []\n",
    "\n",
    "for i in range(N):\n",
    "    movies_i = user2movie[i]\n",
    "    movies_i_set = set(movies_i)\n",
    "\n",
    "    ratings_i = {movie: usermovie2rating[(i, movie)] for movie in movies_i}\n",
    "    avg_i = np.mean(list(ratings_i.values()))\n",
    "    dev_i = {movie: (rating - avg_i) for movie, rating in ratings_i.items()}\n",
    "    dev_i_values = np.array(list(dev_i.values()))\n",
    "    sigma_i = np.sqrt(dev_i_values.dot(dev_i_values))\n",
    "\n",
    "    averages.append(avg_i)\n",
    "    deviations.append(dev_i)\n"
   ]
  },
  {
   "cell_type": "code",
   "execution_count": 14,
   "id": "5d998d3d-118b-4fcf-8183-8bc79cb8ac84",
   "metadata": {},
   "outputs": [
    {
     "name": "stdout",
     "output_type": "stream",
     "text": [
      "9999\n"
     ]
    }
   ],
   "source": [
    "from sortedcontainers import SortedList\n",
    "import numpy as np\n",
    "\n",
    "sl = SortedList()\n",
    "\n",
    "for j in range(N):\n",
    "    if j != i:\n",
    "        movies_j = user2movie[j]\n",
    "        movies_j_set = set(movies_j)\n",
    "        common_movies = movies_i_set & movies_j_set\n",
    "        if len(common_movies) > limit:\n",
    "            ratings_j = {movie: usermovie2rating[(j, movie)] for movie in movies_j}\n",
    "            avg_j = np.mean(list(ratings_j.values()))\n",
    "            dev_j = {movie: (rating - avg_j) for movie, rating in ratings_j.items()}\n",
    "            dev_j_values = np.array(list(dev_j.values()))\n",
    "            sigma_j = np.sqrt(dev_j_values.dot(dev_j_values))\n",
    "\n",
    "            numerator = sum(dev_i[m] * dev_j[m] for m in common_movies)\n",
    "            w_ij = numerator / (sigma_i * sigma_j)\n",
    "\n",
    "            sl.add((-w_ij, j))\n",
    "            if len(sl) > K:\n",
    "                del sl[-1]\n",
    "\n",
    "neighbors.append(sl)\n",
    "\n",
    "if i % 1 == 0:\n",
    "    print(i)\n"
   ]
  },
  {
   "cell_type": "code",
   "execution_count": 15,
   "id": "420926f1-c702-40cc-ba62-b81eff7ccfff",
   "metadata": {},
   "outputs": [],
   "source": [
    "def predict(i, m):\n",
    "  # calculate the weighted sum of deviations\n",
    "  numerator = 0\n",
    "  denominator = 0\n",
    "  for neg_w, j in neighbors[i]:\n",
    "    # remember, the weight is stored as its negative\n",
    "    # so the negative of the negative weight is the positive weight\n",
    "    try:\n",
    "      numerator += -neg_w * deviations[j][m]\n",
    "      denominator += abs(neg_w)\n",
    "    except KeyError:\n",
    "      # neighbor may not have rated the same movie\n",
    "      # don't want to do dictionary lookup twice\n",
    "      # so just throw exception\n",
    "      pass\n",
    "\n",
    "  if denominator == 0:\n",
    "    prediction = averages[i]\n",
    "  else:\n",
    "    prediction = numerator / denominator + averages[i]\n",
    "  prediction = min(5, prediction)\n",
    "  prediction = max(0.5, prediction) # min rating is 0.5\n",
    "  return prediction"
   ]
  },
  {
   "cell_type": "code",
   "execution_count": 11,
   "id": "618f38cd-dbbd-421d-906e-d2424aa3e0aa",
   "metadata": {},
   "outputs": [
    {
     "ename": "IndexError",
     "evalue": "list index out of range",
     "output_type": "error",
     "traceback": [
      "\u001b[0;31m---------------------------------------------------------------------------\u001b[0m",
      "\u001b[0;31mIndexError\u001b[0m                                Traceback (most recent call last)",
      "Cell \u001b[0;32mIn[11], line 5\u001b[0m\n\u001b[1;32m      2\u001b[0m train_targets \u001b[38;5;241m=\u001b[39m []\n\u001b[1;32m      3\u001b[0m \u001b[38;5;28;01mfor\u001b[39;00m (i, m), target \u001b[38;5;129;01min\u001b[39;00m usermovie2rating\u001b[38;5;241m.\u001b[39mitems():\n\u001b[1;32m      4\u001b[0m   \u001b[38;5;66;03m# calculate the prediction for this movie\u001b[39;00m\n\u001b[0;32m----> 5\u001b[0m   prediction \u001b[38;5;241m=\u001b[39m predict(i, m)\n\u001b[1;32m      7\u001b[0m   \u001b[38;5;66;03m# save the prediction and target\u001b[39;00m\n\u001b[1;32m      8\u001b[0m   train_predictions\u001b[38;5;241m.\u001b[39mappend(prediction)\n",
      "Cell \u001b[0;32mIn[6], line 5\u001b[0m, in \u001b[0;36mpredict\u001b[0;34m(i, m)\u001b[0m\n\u001b[1;32m      3\u001b[0m numerator \u001b[38;5;241m=\u001b[39m \u001b[38;5;241m0\u001b[39m\n\u001b[1;32m      4\u001b[0m denominator \u001b[38;5;241m=\u001b[39m \u001b[38;5;241m0\u001b[39m\n\u001b[0;32m----> 5\u001b[0m \u001b[38;5;28;01mfor\u001b[39;00m neg_w, j \u001b[38;5;129;01min\u001b[39;00m neighbors[i]:\n\u001b[1;32m      6\u001b[0m   \u001b[38;5;66;03m# remember, the weight is stored as its negative\u001b[39;00m\n\u001b[1;32m      7\u001b[0m   \u001b[38;5;66;03m# so the negative of the negative weight is the positive weight\u001b[39;00m\n\u001b[1;32m      8\u001b[0m   \u001b[38;5;28;01mtry\u001b[39;00m:\n\u001b[1;32m      9\u001b[0m     numerator \u001b[38;5;241m+\u001b[39m\u001b[38;5;241m=\u001b[39m \u001b[38;5;241m-\u001b[39mneg_w \u001b[38;5;241m*\u001b[39m deviations[j][m]\n",
      "\u001b[0;31mIndexError\u001b[0m: list index out of range"
     ]
    }
   ],
   "source": [
    "\n",
    "train_predictions = []\n",
    "train_targets = []\n",
    "for (i, m), target in usermovie2rating.items():\n",
    "  # calculate the prediction for this movie\n",
    "  prediction = predict(i, m)\n",
    "\n",
    "  # save the prediction and target\n",
    "  train_predictions.append(prediction)\n",
    "  train_targets.append(target)\n",
    "\n",
    "test_predictions = []\n",
    "test_targets = []\n",
    "# same thing for test set\n",
    "for i in range(N):\n",
    "    print(f\"Processing user {i}\")\n",
    "    try:\n",
    "        for neg_w, j in neighbors[i]:\n",
    "            # Your existing code to compute prediction\n",
    "            prediction = predict(i, m)\n",
    "            # Your existing code to save predictions\n",
    "            train_predictions.append(prediction)\n",
    "            train_targets.append(target)\n",
    "    except IndexError:\n",
    "        print(f\"IndexError: neighbors[{i}] is out of range\")\n",
    "        continue\n"
   ]
  },
  {
   "cell_type": "code",
   "execution_count": 10,
   "id": "99d97a1c-b416-4333-85ba-c7acea60681d",
   "metadata": {},
   "outputs": [
    {
     "name": "stdout",
     "output_type": "stream",
     "text": [
      "train mse: nan\n"
     ]
    },
    {
     "name": "stderr",
     "output_type": "stream",
     "text": [
      "/opt/anaconda3/lib/python3.11/site-packages/numpy/core/fromnumeric.py:3504: RuntimeWarning: Mean of empty slice.\n",
      "  return _methods._mean(a, axis=axis, dtype=dtype,\n",
      "/opt/anaconda3/lib/python3.11/site-packages/numpy/core/_methods.py:129: RuntimeWarning: invalid value encountered in scalar divide\n",
      "  ret = ret.dtype.type(ret / rcount)\n"
     ]
    },
    {
     "ename": "NameError",
     "evalue": "name 'test_predictions' is not defined",
     "output_type": "error",
     "traceback": [
      "\u001b[0;31m---------------------------------------------------------------------------\u001b[0m",
      "\u001b[0;31mNameError\u001b[0m                                 Traceback (most recent call last)",
      "Cell \u001b[0;32mIn[10], line 8\u001b[0m\n\u001b[1;32m      5\u001b[0m   \u001b[38;5;28;01mreturn\u001b[39;00m np\u001b[38;5;241m.\u001b[39mmean((p \u001b[38;5;241m-\u001b[39m t)\u001b[38;5;241m*\u001b[39m\u001b[38;5;241m*\u001b[39m\u001b[38;5;241m2\u001b[39m)\n\u001b[1;32m      7\u001b[0m \u001b[38;5;28mprint\u001b[39m(\u001b[38;5;124m'\u001b[39m\u001b[38;5;124mtrain mse:\u001b[39m\u001b[38;5;124m'\u001b[39m, mse(train_predictions, train_targets))\n\u001b[0;32m----> 8\u001b[0m \u001b[38;5;28mprint\u001b[39m(\u001b[38;5;124m'\u001b[39m\u001b[38;5;124mtest mse:\u001b[39m\u001b[38;5;124m'\u001b[39m, mse(test_predictions, test_targets))\n",
      "\u001b[0;31mNameError\u001b[0m: name 'test_predictions' is not defined"
     ]
    }
   ],
   "source": [
    "# calculate accuracy\n",
    "def mse(p, t):\n",
    "  p = np.array(p)\n",
    "  t = np.array(t)\n",
    "  return np.mean((p - t)**2)\n",
    "\n",
    "print('train mse:', mse(train_predictions, train_targets))\n",
    "print('test mse:', mse(test_predictions, test_targets))"
   ]
  },
  {
   "cell_type": "code",
   "execution_count": null,
   "id": "498103a6-3338-463a-9c55-8aa6d91e0619",
   "metadata": {},
   "outputs": [],
   "source": []
  }
 ],
 "metadata": {
  "kernelspec": {
   "display_name": "Python 3 (ipykernel)",
   "language": "python",
   "name": "python3"
  },
  "language_info": {
   "codemirror_mode": {
    "name": "ipython",
    "version": 3
   },
   "file_extension": ".py",
   "mimetype": "text/x-python",
   "name": "python",
   "nbconvert_exporter": "python",
   "pygments_lexer": "ipython3",
   "version": "3.11.7"
  }
 },
 "nbformat": 4,
 "nbformat_minor": 5
}
