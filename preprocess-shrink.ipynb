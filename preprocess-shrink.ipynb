{
 "cells": [
  {
   "cell_type": "code",
   "execution_count": 2,
   "id": "900914f0-73cb-494f-95d7-9bb3b567afee",
   "metadata": {},
   "outputs": [],
   "source": [
    "import pickle\n",
    "import numpy as np\n",
    "import pandas as pd\n",
    "from collections import Counter"
   ]
  },
  {
   "cell_type": "code",
   "execution_count": 4,
   "id": "221fa03b-54e4-462f-9b36-e42622977697",
   "metadata": {},
   "outputs": [],
   "source": [
    "df = pd.read_csv('/Users/keshavsaraogi/Desktop/movie-lens-20m/edited_rating.csv')"
   ]
  },
  {
   "cell_type": "code",
   "execution_count": 5,
   "id": "b4606a95-51f3-4590-a89c-289fa6eb8ca8",
   "metadata": {},
   "outputs": [],
   "source": [
    "N = df.userId.max() + 1\n",
    "M = df.movie_idx.max() + 1\n",
    "\n",
    "user_ids_count = Counter(df.userId)\n",
    "movie_ids_count = Counter(df.movie_idx)"
   ]
  },
  {
   "cell_type": "code",
   "execution_count": 6,
   "id": "f41a2b2e-05fe-4308-9b8b-a1d79ab8de47",
   "metadata": {},
   "outputs": [],
   "source": [
    "n = 10000\n",
    "m = 2000\n",
    "\n",
    "user_ids = [u for u, c in user_ids_count.most_common(n)]\n",
    "movie_ids = [m for m, c in movie_ids_count.most_common(m)]\n",
    "\n",
    "df_small = df[df.userId.isin(user_ids) & df.movie_idx.isin(movie_ids)].copy()"
   ]
  },
  {
   "cell_type": "code",
   "execution_count": 7,
   "id": "b4cf2514-8adb-474b-a2fe-e865f46d3031",
   "metadata": {},
   "outputs": [
    {
     "name": "stdout",
     "output_type": "stream",
     "text": [
      "i: 10000\n",
      "j: 2000\n",
      "Setting new ids\n",
      "max user id: 9999\n",
      "max movie id: 1999\n"
     ]
    }
   ],
   "source": [
    "new_user_id_map = {}\n",
    "i = 0\n",
    "for old in user_ids:\n",
    "  new_user_id_map[old] = i\n",
    "  i += 1\n",
    "print(\"i:\", i)\n",
    "\n",
    "new_movie_id_map = {}\n",
    "j = 0\n",
    "for old in movie_ids:\n",
    "  new_movie_id_map[old] = j\n",
    "  j += 1\n",
    "print(\"j:\", j)\n",
    "\n",
    "print(\"Setting new ids\")\n",
    "df_small.loc[:, 'userId'] = df_small.apply(lambda row: new_user_id_map[row.userId], axis=1)\n",
    "df_small.loc[:, 'movie_idx'] = df_small.apply(lambda row: new_movie_id_map[row.movie_idx], axis=1)\n",
    "\n",
    "print(\"max user id:\", df_small.userId.max())\n",
    "print(\"max movie id:\", df_small.movie_idx.max())\n"
   ]
  },
  {
   "cell_type": "code",
   "execution_count": 8,
   "id": "faf6753c-f041-47a5-a30b-5ff426148861",
   "metadata": {},
   "outputs": [
    {
     "name": "stdout",
     "output_type": "stream",
     "text": [
      "small dataframe size: 5392025\n"
     ]
    }
   ],
   "source": [
    "print(\"small dataframe size:\", len(df_small))\n",
    "df_small.to_csv('/Users/keshavsaraogi/Desktop/movie-lens-20m/small_rating.csv', index=False)"
   ]
  },
  {
   "cell_type": "code",
   "execution_count": null,
   "id": "0477b357-e23b-4166-b476-e3bf1f23a632",
   "metadata": {},
   "outputs": [],
   "source": []
  }
 ],
 "metadata": {
  "kernelspec": {
   "display_name": "Python 3 (ipykernel)",
   "language": "python",
   "name": "python3"
  },
  "language_info": {
   "codemirror_mode": {
    "name": "ipython",
    "version": 3
   },
   "file_extension": ".py",
   "mimetype": "text/x-python",
   "name": "python",
   "nbconvert_exporter": "python",
   "pygments_lexer": "ipython3",
   "version": "3.11.7"
  }
 },
 "nbformat": 4,
 "nbformat_minor": 5
}
